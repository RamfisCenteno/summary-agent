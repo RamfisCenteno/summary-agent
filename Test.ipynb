{
 "cells": [
  {
   "cell_type": "code",
   "execution_count": 14,
   "id": "63f1857f-1850-4f7e-ae36-02505094307e",
   "metadata": {},
   "outputs": [],
   "source": [
    "from langchain.chains import LLMChain\n",
    "from langchain.prompts import PromptTemplate\n",
    "from langchain_ollama.llms import OllamaLLM"
   ]
  },
  {
   "cell_type": "code",
   "execution_count": 1,
   "id": "86abc293-7659-42c2-8152-8201661a432e",
   "metadata": {},
   "outputs": [],
   "source": [
    "import fitz"
   ]
  },
  {
   "cell_type": "code",
   "execution_count": 2,
   "id": "5439f925-3448-49f0-9f94-d3d8cc11af8b",
   "metadata": {},
   "outputs": [],
   "source": [
    "pdf_file= fitz.open(r'C:\\Users\\Ramfis\\Downloads\\fourier.pdf')"
   ]
  },
  {
   "cell_type": "code",
   "execution_count": 35,
   "id": "2fd896ad-1275-41b9-a579-6f169e8db14c",
   "metadata": {},
   "outputs": [],
   "source": [
    "full_text_pdf=[]\n",
    "for page in pdf_file:\n",
    "    text=page.get_text()\n",
    "    full_text_pdf.append(text)\n",
    "full_text_pdf_join='\\n'.join(full_text_pdf)"
   ]
  },
  {
   "cell_type": "code",
   "execution_count": 22,
   "id": "06c3ece8-1bb7-430b-9d6d-8bfa6019125b",
   "metadata": {},
   "outputs": [],
   "source": [
    "    import docx\n",
    "import time"
   ]
  },
  {
   "cell_type": "code",
   "execution_count": 5,
   "id": "aa5617d5-6d5e-4f20-940b-3674707d737e",
   "metadata": {},
   "outputs": [],
   "source": [
    "doc=docx.Document(r'C:\\Users\\Ramfis\\Desktop\\Repos\\Documentacion\\Github.docx')"
   ]
  },
  {
   "cell_type": "code",
   "execution_count": 21,
   "id": "e6306732-8026-4221-8a9d-ca31e761f3dd",
   "metadata": {},
   "outputs": [],
   "source": [
    "full_text=[]\n",
    "for text in doc.paragraphs:\n",
    "    full_text.append(text.text)\n",
    "full_text_join='\\n'.join(full_text)"
   ]
  },
  {
   "cell_type": "code",
   "execution_count": 10,
   "id": "0a5c45a7-bdf7-455b-910a-ce89a33c646e",
   "metadata": {},
   "outputs": [
    {
     "name": "stdout",
     "output_type": "stream",
     "text": [
      "stack pot ratio: Mejor cercano a 1\n",
      "\n",
      "\n",
      "Stack efectivo/pote\n",
      "\n",
      "\n",
      "stock pricing algorithm- Predecir elprecio de algo en el tiempo para ver cuando o como es mas barato comprar\n",
      "\n",
      "\n",
      "Usar IA lang chaing,. deepseek para identificar campos de voucheo en facturas u otros.\n",
      "\n"
     ]
    }
   ],
   "source": [
    "txt=open(r'C:\\Users\\Ramfis\\Downloads\\txtfile.txt','r')\n",
    "print(txt.read())"
   ]
  },
  {
   "cell_type": "code",
   "execution_count": 15,
   "id": "15d9038e-a0cf-4bb5-84b6-fd6b3d143f98",
   "metadata": {},
   "outputs": [],
   "source": [
    "llm=OllamaLLM(model='deepseek-r1:8b')"
   ]
  },
  {
   "cell_type": "code",
   "execution_count": 52,
   "id": "5bbe4d88-7928-4513-8cea-636f3f5f6ed4",
   "metadata": {},
   "outputs": [],
   "source": [
    "prompt=PromptTemplate(input_variables=['text_from_file'],\n",
    "                     template=\"\"\"\n",
    "                     Eres un experto en archivos de texto multibilingue.\n",
    "                     Tu funcion es poder recibir el texto completo de diferentes tipos de documentos: word, txt o pdf y dar un resumen del contenido del texto.\n",
    "                     Ademas, debes dar SOLO cinco palabras clave de la informacion contenida en el texto y un fragmento en el cual podamos ver en que parte del texto podemos\n",
    "                     encontrar esa palabra clave o la referencia a esa palabra clave\n",
    "\n",
    "                     Informacion a resumir: {text_from_file}\n",
    "\n",
    "                     El formato de tu respuesta debe ser siempre el siguiente y en este orden:\n",
    "                     \n",
    "                     Resumen general del texto: (En esta seccion solo debe darse un resumen general de todo el texto)\n",
    "\n",
    "                     Lista de palabras clave del texto: \n",
    "                         - palabra clave 1 : (parte del texto donde aparece la palabra clave o su referencia)\n",
    "                         - palabra clave 2 : (parte del texto donde aparece la palabra clave o su referencia)\n",
    "                         - palabra clave 3 : (parte del texto donde aparece la palabra clave o su referencia)\n",
    "                     \n",
    "                     \"\"\")"
   ]
  },
  {
   "cell_type": "code",
   "execution_count": 53,
   "id": "22e7f7ee-9ff3-4ecb-a800-b697c8ffc9d3",
   "metadata": {},
   "outputs": [],
   "source": [
    "resume_agent  = LLMChain(llm=llm, prompt=prompt, output_key=\"text_output\")"
   ]
  },
  {
   "cell_type": "code",
   "execution_count": 54,
   "id": "27a34aba-61aa-45ff-8ce5-c800fab888ef",
   "metadata": {},
   "outputs": [
    {
     "name": "stdout",
     "output_type": "stream",
     "text": [
      "14.972153186798096\n"
     ]
    }
   ],
   "source": [
    "text_resume=full_text_pdf_join\n",
    "start=time.time()\n",
    "output=resume_agent({\"text_from_file\":text_resume})\n",
    "print(time.time()-start)"
   ]
  },
  {
   "cell_type": "code",
   "execution_count": 55,
   "id": "b9d89ccf-1ca6-42d1-b163-0bafb5446627",
   "metadata": {},
   "outputs": [
    {
     "data": {
      "text/plain": [
       "'<think>\\nBien, estoy viendo un texto que habla sobre el uso de las transformadas de Fourier en diferentes aplicaciones. Empecé leyendo y me di cuenta que se menciona la transformada discreta de Fourier para imágenes bidimensionales, así como sus aplicaciones en la convolución de polínomios y en aritmética de alta precisión.\\n\\nPrimero, entiendo que la transformada de Fourier es un herramienta poderosa para analizar señales ybilderías. Para las imágenes, se menciona que se puede aplicar una 2-D DFT, pero cuando los tamaños son potencias de dos, se aprovecha el FFT para acelerar el cálculo. Me pregunto cómo exactamente se modifica la transformada para cada fila y columna.\\n\\nTambién hay partes sobre la convolución utilizando FFT, lo que me recuerda que la convolución es esencial en operaciones como multiplicación de polínomios. Entiendo que para esto, se suma el coeficiente de convolución, que depende del producto de los coeficientes de las imágenes.\\n\\nMe sorprende un poco cómo se aplican las transformadas a imagenes reales, sobre todo la parte de traducir el pixel (0,0) al centro de la imagen para mejor visualización. No estoy seguro de cómo se implementa esto exactamente.\\n\\nAdemás, hay menciones sobre el uso de FFT en aritmética de alta precisión, lo que me hace pensar en aplicaciones como calcular constantes matemáticas con gran número de decimales.\\n\\nEn resumen, veo que el texto aborda las aplicaciones prácticas y teóricas de las transformadas de Fourier, destacando su eficiencia en procesos que involucran convolución y análisis de señales.\\n</think>\\n\\n**Resumen general del texto:**  \\nEl texto explica variadas aplicaciones de la Transformada de Fourier (DFT) y sus métodos optimizados, como el Fast Fourier Transform (FFT), en diferentes contextos: imágenes bidimensionales, convolución de polínomios, y aritmética de alta precisión. También se mencionan las mejoras que pueden ocurrir en la visualización de imágenes al aplicar ciertas transformadas y cómo estas herramientas son utilizadas para resolver problemas complejos en el ámbito académico y tecnológico.\\n\\n**Lista de palabras clave del texto:**  \\n- **Transformada de Fourier (DFT):** Se menciona su uso en la transformación de señales y bilderías. (Ver apartado \"Fourier Transforms of Images\".)  \\n- **Fast Fourier Transform (FFT):** Se detalla cómo esta técnica acelera la computación de la DFT, especialmente para imágenes con dimensiones que son potencias de dos. (Ver apartado \"Fourier Transforms of Images\".)  \\n- **Convolución:** Explicada como un proceso esencial en aplicaciones como la multiplicación de polínomios y la sintetización de texturas fractales. (Ver apartados \"Fourier Convolution Wins Big\" y \"Fourier Transforms and Arithmetic\".)'"
      ]
     },
     "execution_count": 55,
     "metadata": {},
     "output_type": "execute_result"
    }
   ],
   "source": [
    "output['text_output']"
   ]
  },
  {
   "cell_type": "code",
   "execution_count": 56,
   "id": "79c98ab1-08f6-4617-b400-775c53b1f173",
   "metadata": {},
   "outputs": [],
   "source": [
    "import re"
   ]
  },
  {
   "cell_type": "code",
   "execution_count": 57,
   "id": "ac6c63bd-0c22-48ae-b7db-16964a6ed326",
   "metadata": {},
   "outputs": [
    {
     "name": "stdout",
     "output_type": "stream",
     "text": [
      "\n",
      "\n",
      "**Resumen general del texto:**  \n",
      "El texto explica variadas aplicaciones de la Transformada de Fourier (DFT) y sus métodos optimizados, como el Fast Fourier Transform (FFT), en diferentes contextos: imágenes bidimensionales, convolución de polínomios, y aritmética de alta precisión. También se mencionan las mejoras que pueden ocurrir en la visualización de imágenes al aplicar ciertas transformadas y cómo estas herramientas son utilizadas para resolver problemas complejos en el ámbito académico y tecnológico.\n",
      "\n",
      "**Lista de palabras clave del texto:**  \n",
      "- **Transformada de Fourier (DFT):** Se menciona su uso en la transformación de señales y bilderías. (Ver apartado \"Fourier Transforms of Images\".)  \n",
      "- **Fast Fourier Transform (FFT):** Se detalla cómo esta técnica acelera la computación de la DFT, especialmente para imágenes con dimensiones que son potencias de dos. (Ver apartado \"Fourier Transforms of Images\".)  \n",
      "- **Convolución:** Explicada como un proceso esencial en aplicaciones como la multiplicación de polínomios y la sintetización de texturas fractales. (Ver apartados \"Fourier Convolution Wins Big\" y \"Fourier Transforms and Arithmetic\".)\n"
     ]
    }
   ],
   "source": [
    "print(re.sub(\"<think>.*?</think>\",\"\",output['text_output'],flags=re.DOTALL))"
   ]
  },
  {
   "cell_type": "code",
   "execution_count": null,
   "id": "647dca0e-e22f-4a42-bf88-867093a15d5e",
   "metadata": {},
   "outputs": [],
   "source": []
  }
 ],
 "metadata": {
  "kernelspec": {
   "display_name": "Python 3 (ipykernel)",
   "language": "python",
   "name": "python3"
  },
  "language_info": {
   "codemirror_mode": {
    "name": "ipython",
    "version": 3
   },
   "file_extension": ".py",
   "mimetype": "text/x-python",
   "name": "python",
   "nbconvert_exporter": "python",
   "pygments_lexer": "ipython3",
   "version": "3.11.11"
  }
 },
 "nbformat": 4,
 "nbformat_minor": 5
}
